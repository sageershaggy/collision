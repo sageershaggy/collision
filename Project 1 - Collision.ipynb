{
 "cells": [
  {
   "cell_type": "markdown",
   "metadata": {},
   "source": [
    "# Capstone Project: Full Report: Car Accident Severity"
   ]
  },
  {
   "cell_type": "markdown",
   "metadata": {},
   "source": [
    "Road Accident is the most undesirable and unexpected thing to occur to a road user, though they happen quite often. Unfortunately, we can see a minatory rise of road accidents, conspicuously highroad accidents over the past few years. It has a massive impact on society as well as in the economy of the country as there is an immense cost of fatalities and injuries. According to a recent report, annually on an average 9,000 lives have been taken by road accidents and lead to almost 28,000 injuries. This record indicates the idea to leverage the accident data that you found to predict the different accidents' severity and come up with solution which can be benefial to the governement. Besides this, according to WHO, the economic cost of road accidents to a developing country like us is 2-3% of GDP, which is a significant loss for a country like ours. Moreover, reducing this loss has become a great matter of concern for our country now."
   ]
  },
  {
   "cell_type": "code",
   "execution_count": 1,
   "metadata": {},
   "outputs": [],
   "source": [
    "import pandas as pd\n",
    "import matplotlib.pyplot as plt\n",
    "import numpy as np\n",
    "import seaborn as sns\n",
    "from sklearn.pipeline import Pipeline\n",
    "from sklearn.preprocessing import StandardScaler,PolynomialFeatures\n",
    "from sklearn.linear_model import LinearRegression\n",
    "%matplotlib inline"
   ]
  },
  {
   "cell_type": "code",
   "execution_count": 2,
   "metadata": {},
   "outputs": [
    {
     "name": "stdout",
     "output_type": "stream",
     "text": [
      "Hello Capstone Project Course!\n"
     ]
    }
   ],
   "source": [
    "print(\"Hello Capstone Project Course!\")"
   ]
  },
  {
   "cell_type": "code",
   "execution_count": 3,
   "metadata": {},
   "outputs": [],
   "source": [
    "excel_file_path = \"D:\\Data Science\\Capstone Projects\\IBM\\Data-Collisions.csv\""
   ]
  },
  {
   "cell_type": "code",
   "execution_count": 11,
   "metadata": {},
   "outputs": [],
   "source": [
    "df = pd.read_csv(excel_file_path)"
   ]
  },
  {
   "cell_type": "code",
   "execution_count": 5,
   "metadata": {},
   "outputs": [],
   "source": [
    "dtype={'user_id': int}"
   ]
  },
  {
   "cell_type": "code",
   "execution_count": 6,
   "metadata": {},
   "outputs": [
    {
     "name": "stdout",
     "output_type": "stream",
     "text": [
      "Index(['SEVERITYCODE', 'X', 'Y', 'OBJECTID', 'INCKEY', 'COLDETKEY', 'REPORTNO',\n",
      "       'STATUS', 'ADDRTYPE', 'INTKEY', 'LOCATION', 'EXCEPTRSNCODE',\n",
      "       'EXCEPTRSNDESC', 'SEVERITYCODE.1', 'SEVERITYDESC', 'COLLISIONTYPE',\n",
      "       'PERSONCOUNT', 'PEDCOUNT', 'PEDCYLCOUNT', 'VEHCOUNT', 'INCDATE',\n",
      "       'INCDTTM', 'JUNCTIONTYPE', 'SDOT_COLCODE', 'SDOT_COLDESC',\n",
      "       'INATTENTIONIND', 'UNDERINFL', 'WEATHER', 'ROADCOND', 'LIGHTCOND',\n",
      "       'PEDROWNOTGRNT', 'SDOTCOLNUM', 'SPEEDING', 'ST_COLCODE', 'ST_COLDESC',\n",
      "       'SEGLANEKEY', 'CROSSWALKKEY', 'HITPARKEDCAR'],\n",
      "      dtype='object')\n"
     ]
    }
   ],
   "source": [
    "print(df.columns)"
   ]
  },
  {
   "cell_type": "code",
   "execution_count": 7,
   "metadata": {},
   "outputs": [
    {
     "name": "stdout",
     "output_type": "stream",
     "text": [
      "<class 'pandas.core.frame.DataFrame'>\n",
      "RangeIndex: 194673 entries, 0 to 194672\n",
      "Data columns (total 38 columns):\n",
      "SEVERITYCODE      194673 non-null int64\n",
      "X                 189339 non-null float64\n",
      "Y                 189339 non-null float64\n",
      "OBJECTID          194673 non-null int64\n",
      "INCKEY            194673 non-null int64\n",
      "COLDETKEY         194673 non-null int64\n",
      "REPORTNO          194673 non-null object\n",
      "STATUS            194673 non-null object\n",
      "ADDRTYPE          192747 non-null object\n",
      "INTKEY            65070 non-null float64\n",
      "LOCATION          191996 non-null object\n",
      "EXCEPTRSNCODE     84811 non-null object\n",
      "EXCEPTRSNDESC     5638 non-null object\n",
      "SEVERITYCODE.1    194673 non-null int64\n",
      "SEVERITYDESC      194673 non-null object\n",
      "COLLISIONTYPE     189769 non-null object\n",
      "PERSONCOUNT       194673 non-null int64\n",
      "PEDCOUNT          194673 non-null int64\n",
      "PEDCYLCOUNT       194673 non-null int64\n",
      "VEHCOUNT          194673 non-null int64\n",
      "INCDATE           194673 non-null object\n",
      "INCDTTM           194673 non-null object\n",
      "JUNCTIONTYPE      188344 non-null object\n",
      "SDOT_COLCODE      194673 non-null int64\n",
      "SDOT_COLDESC      194673 non-null object\n",
      "INATTENTIONIND    29805 non-null object\n",
      "UNDERINFL         189789 non-null object\n",
      "WEATHER           189592 non-null object\n",
      "ROADCOND          189661 non-null object\n",
      "LIGHTCOND         189503 non-null object\n",
      "PEDROWNOTGRNT     4667 non-null object\n",
      "SDOTCOLNUM        114936 non-null float64\n",
      "SPEEDING          9333 non-null object\n",
      "ST_COLCODE        194655 non-null object\n",
      "ST_COLDESC        189769 non-null object\n",
      "SEGLANEKEY        194673 non-null int64\n",
      "CROSSWALKKEY      194673 non-null int64\n",
      "HITPARKEDCAR      194673 non-null object\n",
      "dtypes: float64(4), int64(12), object(22)\n",
      "memory usage: 56.4+ MB\n"
     ]
    }
   ],
   "source": [
    "df_info = df.info()"
   ]
  },
  {
   "cell_type": "code",
   "execution_count": 8,
   "metadata": {},
   "outputs": [
    {
     "name": "stdout",
     "output_type": "stream",
     "text": [
      "None\n"
     ]
    }
   ],
   "source": [
    "print(df_info)"
   ]
  },
  {
   "cell_type": "code",
   "execution_count": 9,
   "metadata": {},
   "outputs": [
    {
     "name": "stdout",
     "output_type": "stream",
     "text": [
      "        SEVERITYCODE              X              Y       OBJECTID  \\\n",
      "count  194673.000000  189339.000000  189339.000000  194673.000000   \n",
      "mean        1.298901    -122.330518      47.619543  108479.364930   \n",
      "std         0.457778       0.029976       0.056157   62649.722558   \n",
      "min         1.000000    -122.419091      47.495573       1.000000   \n",
      "25%         1.000000    -122.348673      47.575956   54267.000000   \n",
      "50%         1.000000    -122.330224      47.615369  106912.000000   \n",
      "75%         2.000000    -122.311937      47.663664  162272.000000   \n",
      "max         2.000000    -122.238949      47.734142  219547.000000   \n",
      "\n",
      "              INCKEY      COLDETKEY         INTKEY  SEVERITYCODE.1  \\\n",
      "count  194673.000000  194673.000000   65070.000000   194673.000000   \n",
      "mean   141091.456350  141298.811381   37558.450576        1.298901   \n",
      "std     86634.402737   86986.542110   51745.990273        0.457778   \n",
      "min      1001.000000    1001.000000   23807.000000        1.000000   \n",
      "25%     70383.000000   70383.000000   28667.000000        1.000000   \n",
      "50%    123363.000000  123363.000000   29973.000000        1.000000   \n",
      "75%    203319.000000  203459.000000   33973.000000        2.000000   \n",
      "max    331454.000000  332954.000000  757580.000000        2.000000   \n",
      "\n",
      "         PERSONCOUNT       PEDCOUNT    PEDCYLCOUNT       VEHCOUNT  \\\n",
      "count  194673.000000  194673.000000  194673.000000  194673.000000   \n",
      "mean        2.444427       0.037139       0.028391       1.920780   \n",
      "std         1.345929       0.198150       0.167413       0.631047   \n",
      "min         0.000000       0.000000       0.000000       0.000000   \n",
      "25%         2.000000       0.000000       0.000000       2.000000   \n",
      "50%         2.000000       0.000000       0.000000       2.000000   \n",
      "75%         3.000000       0.000000       0.000000       2.000000   \n",
      "max        81.000000       6.000000       2.000000      12.000000   \n",
      "\n",
      "        SDOT_COLCODE    SDOTCOLNUM     SEGLANEKEY  CROSSWALKKEY  \n",
      "count  194673.000000  1.149360e+05  194673.000000  1.946730e+05  \n",
      "mean       13.867768  7.972521e+06     269.401114  9.782452e+03  \n",
      "std         6.868755  2.553533e+06    3315.776055  7.226926e+04  \n",
      "min         0.000000  1.007024e+06       0.000000  0.000000e+00  \n",
      "25%        11.000000  6.040015e+06       0.000000  0.000000e+00  \n",
      "50%        13.000000  8.023022e+06       0.000000  0.000000e+00  \n",
      "75%        14.000000  1.015501e+07       0.000000  0.000000e+00  \n",
      "max        69.000000  1.307202e+07  525241.000000  5.239700e+06  \n"
     ]
    }
   ],
   "source": [
    "print(df.describe())"
   ]
  },
  {
   "cell_type": "code",
   "execution_count": 10,
   "metadata": {},
   "outputs": [
    {
     "name": "stdout",
     "output_type": "stream",
     "text": [
      "count    194673.000000\n",
      "mean     108479.364930\n",
      "std       62649.722558\n",
      "min           1.000000\n",
      "25%       54267.000000\n",
      "50%      106912.000000\n",
      "75%      162272.000000\n",
      "max      219547.000000\n",
      "Name: OBJECTID, dtype: float64\n"
     ]
    }
   ],
   "source": [
    "print(df.describe()['OBJECTID'])"
   ]
  }
 ],
 "metadata": {
  "kernelspec": {
   "display_name": "Python 3",
   "language": "python",
   "name": "python3"
  },
  "language_info": {
   "codemirror_mode": {
    "name": "ipython",
    "version": 3
   },
   "file_extension": ".py",
   "mimetype": "text/x-python",
   "name": "python",
   "nbconvert_exporter": "python",
   "pygments_lexer": "ipython3",
   "version": "3.7.4"
  }
 },
 "nbformat": 4,
 "nbformat_minor": 4
}
